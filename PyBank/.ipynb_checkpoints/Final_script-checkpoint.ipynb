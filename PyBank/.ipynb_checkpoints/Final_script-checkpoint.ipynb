{
 "cells": [
  {
   "cell_type": "code",
   "execution_count": 1,
   "metadata": {},
   "outputs": [
    {
     "name": "stdout",
     "output_type": "stream",
     "text": [
      "Financial Analysis\n",
      "\n",
      "----------------------------\n",
      "\n",
      "Total Months : 86\n",
      "Total: $ 38382578\n",
      "Greatest Increase in Profits: Feb-2012 : ($ 1926159)\n",
      "Greatest Decrease in Profits: Sep-2013 : ($ -2196167)\n"
     ]
    }
   ],
   "source": [
    "import csv\n",
    "import os\n",
    "#Was trying to add some pretty stuff and formatting, ran out of time\n",
    "import pprint\n",
    "\n",
    "wd = os.getcwd()\n",
    "csvpath = os.path.join(wd, 'budget_data.csv')\n",
    "\n",
    "months_count = 0\n",
    "prof_total = 0\n",
    "ovalue = 0\n",
    "nmin = 0\n",
    "nmax = 0\n",
    "change = 0\n",
    "\n",
    "\n",
    "with open(csvpath, newline='') as csvpath:\n",
    "    csv = csv.reader(csvpath, delimiter=',')\n",
    "    head = next(csv)\n",
    "    #create the header\n",
    "    print(f'Financial Analysis'+'\\n')\n",
    "    print(f'----------------------------'+'\\n')\n",
    "    \n",
    "    #lets do math and stuff #showyourwork\n",
    "    for i in csv:\n",
    "        months=i[0]\n",
    "        amount = i[1]\n",
    "        iamount = int(amount)\n",
    "        change = iamount - ovalue\n",
    "          \n",
    "        if nmax < change:\n",
    "            nmax = change\n",
    "            changemaxdate = months\n",
    "          \n",
    "        if  nmin > change:\n",
    "            nmin = change\n",
    "            changemindate = months\n",
    "          \n",
    "        ovalue = iamount\n",
    "        months_count = months_count + 1\n",
    "        prof_total += int(amount)\n",
    "\n",
    "#we have number = answer\n",
    "print(f'Total Months : {months_count}')\n",
    "print(f'Total: $ {prof_total}')\n",
    "print(f'Greatest Increase in Profits: {changemaxdate} : ($ {nmax})')\n",
    "print(f'Greatest Decrease in Profits: {changemindate} : ($ {nmin})')"
   ]
  },
  {
   "cell_type": "code",
   "execution_count": null,
   "metadata": {},
   "outputs": [],
   "source": []
  }
 ],
 "metadata": {
  "kernelspec": {
   "display_name": "Python 3",
   "language": "python",
   "name": "python3"
  },
  "language_info": {
   "codemirror_mode": {
    "name": "ipython",
    "version": 3
   },
   "file_extension": ".py",
   "mimetype": "text/x-python",
   "name": "python",
   "nbconvert_exporter": "python",
   "pygments_lexer": "ipython3",
   "version": "3.8.5"
  }
 },
 "nbformat": 4,
 "nbformat_minor": 4
}
